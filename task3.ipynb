{
 "cells": [
  {
   "cell_type": "markdown",
   "metadata": {},
   "source": [
    "# Лабораторная работа №3."
   ]
  },
  {
   "cell_type": "markdown",
   "metadata": {},
   "source": [
    "## Задача 1. Решение нелинейного уравнения методом простой итерации"
   ]
  },
  {
   "cell_type": "markdown",
   "metadata": {},
   "source": [
    "Дано уравнение $$x \\cdot 2^x = 1$$\n",
    "\n",
    "1) Локализуем корни, воспользовавшись Desmos, получили, что корень лежит $x \\in [\\frac{1}{2};1]$\n",
    "\n",
    "2) Выберем метод МПИ: $x_{n+1} = 2^{-x}$\n",
    "\n",
    "3) Воспользуемся достаточным условием сходимости МПИ: $|\\frac{d{2^{-x}}}{dx}| < 1$\n",
    "\n",
    "На выбранном отрезке локализации $[\\frac{1}{2};1]$: $|...| \\le 2^{-1/2} = \\frac{1}{\\sqrt(2)} < 1 $ \n",
    "\n",
    "Следовательно метод сходится, можно перебирать"
   ]
  },
  {
   "cell_type": "code",
   "execution_count": 2,
   "metadata": {},
   "outputs": [
    {
     "name": "stdout",
     "output_type": "stream",
     "text": [
      "Проверка решения:\t 0.6411857445050548\n",
      "Ошибка равна =  1.5498713423767185e-13\n"
     ]
    }
   ],
   "source": [
    "# задаем начальные условия мпи\n",
    "eps = 1e-13\n",
    "X0 = 0.5\n",
    "Xn = X0\n",
    "iter = 0\n",
    "\n",
    "while 1:    \n",
    "    Xnew = 2** (-Xn)\n",
    "    iter += 1\n",
    "\n",
    "    if (abs (Xnew - Xn) < eps): \n",
    "        break\n",
    "\n",
    "    Xn = Xnew\n",
    "\n",
    "print (\"Решение равно:\\t\", Xn)\n",
    "print (\"Ошибка равна = \", Xn * 2 ** Xn - 1)"
   ]
  },
  {
   "cell_type": "markdown",
   "metadata": {},
   "source": [
    "## Задача 2. Решение нелинейной системы уравнений методом Ньютона."
   ]
  },
  {
   "cell_type": "markdown",
   "metadata": {},
   "source": [
    "Дана система \n",
    "\n",
    "$$ \\begin{cases}\n",
    "      (x - 1.4)^2 - (y - 0.6)^2 = 1 \\\\\n",
    "      4.2x^2 + 8.8y^2 = 1.42\n",
    "    \\end{cases}\n",
    "$$\n",
    "\n",
    "1) Опять с помощью [Desmos](https://www.desmos.com/?lang=ru) локализуем точки пересечения (корни)\n",
    "$$x_1 \\in [0.3;0.4] \\ y_1 \\in [0.3;0.4] $$\n",
    "\n",
    "$$x_2 \\in [-0.1;0] \\ y_2 \\in [-0.5;-0.4] $$\n",
    "\n",
    "2) Воспользуемся формулой $$x_{n+1} = x_n - J(x_n)^{-1} F(x_n)$$\n",
    "где J - матрица Якоби \n",
    "$$ J_{2\\times2} =\n",
    "  \\left[ {\\begin{array}{cc}\n",
    "    2(x - 1.4) & -2(y - 0.6) \\\\\n",
    "    8.4x & 17.6y \\\\\n",
    "  \\end{array} } \\right]\n",
    "$$"
   ]
  },
  {
   "cell_type": "code",
   "execution_count": 38,
   "metadata": {},
   "outputs": [
    {
     "name": "stdout",
     "output_type": "stream",
     "text": [
      "Решение X1:\t [0.36026429 0.31530658]\n",
      "Всего итераций:\t 5\n",
      "Проверка: [0. 0.]\n",
      "Решение X2:\t [-0.01531815 -0.40156151]\n",
      "Всего итераций:\t 5\n",
      "Проверка: [-2.22044605e-16  0.00000000e+00]\n"
     ]
    }
   ],
   "source": [
    "import numpy as np\n",
    "\n",
    "# считает матрицу якоби от xn\n",
    "def J(Xn):\n",
    "    # print('J', Xn.shape)\n",
    "    return np.array([[2 * (Xn[0] - 1.4), - 2 * (Xn[1] - 0.6)], \n",
    "                      [8.4 * Xn[0], 17.6 * Xn[1]]])\n",
    "\n",
    "# считает F(Xn)\n",
    "def F(Xn):\n",
    "    # print(Xn.shape)\n",
    "    return np.array([(Xn[0] - 1.4) ** 2 - (Xn[1] - 0.6) ** 2 - 1, \n",
    "                    4.2 * Xn[0] ** 2 + 8.8 * Xn[1] ** 2 - 1.42])\n",
    "\n",
    "\n",
    "# задаем начальные условия\n",
    "eps = 1e-13\n",
    "\n",
    "def calculateRootNewtonsMethod (X0, eps):\n",
    "    Xn = X0\n",
    "    iter = 0\n",
    "\n",
    "    while iter == 0 or np.linalg.norm(Xn - X0, ord = 2) > eps:\n",
    "\n",
    "        X0 = np.squeeze(Xn)\n",
    "        Xn = np.squeeze((Xn - np.linalg.inv(J(Xn)).dot(F(Xn))))\n",
    "\n",
    "        iter += 1\n",
    "\n",
    "    return [Xn, iter]\n",
    "\n",
    "\n",
    "X0 = np.array([0.3, 0.3])\n",
    "root1, iter1 = calculateRootNewtonsMethod (X0, eps)\n",
    "print(\"Решение X1:\\t\", root1)\n",
    "print(\"Всего итераций:\\t\", iter1)\n",
    "print(\"Проверка:\", F (root1))\n",
    "\n",
    "X0 = np.array([-0.1, -0.4])\n",
    "root2, iter2 = calculateRootNewtonsMethod (X0, eps)\n",
    "print(\"Решение X2:\\t\", root2)\n",
    "print(\"Всего итераций:\\t\", iter2)\n",
    "print(\"Проверка:\", F (root2))\n"
   ]
  }
 ],
 "metadata": {
  "kernelspec": {
   "display_name": "base",
   "language": "python",
   "name": "python3"
  },
  "language_info": {
   "codemirror_mode": {
    "name": "ipython",
    "version": 3
   },
   "file_extension": ".py",
   "mimetype": "text/x-python",
   "name": "python",
   "nbconvert_exporter": "python",
   "pygments_lexer": "ipython3",
   "version": "3.11.4"
  }
 },
 "nbformat": 4,
 "nbformat_minor": 2
}
