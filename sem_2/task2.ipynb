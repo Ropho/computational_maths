{
 "cells": [
  {
   "cell_type": "markdown",
   "metadata": {},
   "source": [
    "## X.9.5 Уравнение Бонгоффера-Ван-Дер-Поля.\n",
    "Рассмотрим еще один пример жесткой задачи малой размерности, имеющей периодической решение.\n",
    "$$\n",
    "    y' = a -(\\frac {y_1^3} {3} - y_1) + y_2)\n",
    "$$"
   ]
  },
  {
   "cell_type": "code",
   "execution_count": null,
   "metadata": {},
   "outputs": [],
   "source": []
  }
 ],
 "metadata": {
  "language_info": {
   "name": "python"
  }
 },
 "nbformat": 4,
 "nbformat_minor": 2
}
